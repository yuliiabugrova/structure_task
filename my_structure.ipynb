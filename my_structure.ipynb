{
  "nbformat": 4,
  "nbformat_minor": 0,
  "metadata": {
    "colab": {
      "provenance": [],
      "authorship_tag": "ABX9TyM3/C6WY+c19R+7OrzlqEBw",
      "include_colab_link": true
    },
    "kernelspec": {
      "name": "python3",
      "display_name": "Python 3"
    },
    "language_info": {
      "name": "python"
    }
  },
  "cells": [
    {
      "cell_type": "markdown",
      "metadata": {
        "id": "view-in-github",
        "colab_type": "text"
      },
      "source": [
        "<a href=\"https://colab.research.google.com/github/yuliiabugrova/structure_task/blob/main/my_structure.ipynb\" target=\"_parent\"><img src=\"https://colab.research.google.com/assets/colab-badge.svg\" alt=\"Open In Colab\"/></a>"
      ]
    },
    {
      "cell_type": "markdown",
      "source": [
        "1. Структура містить такі поля: назва команди, кількість поразок, кількість\n",
        "перемог, кількість нічиїх. Вивести на екран команду, яка найбільше разів\n",
        "перемогла."
      ],
      "metadata": {
        "id": "Arlik00BVqjX"
      }
    },
    {
      "cell_type": "code",
      "execution_count": 6,
      "metadata": {
        "colab": {
          "base_uri": "https://localhost:8080/"
        },
        "id": "ISmFNJ35UBkz",
        "outputId": "ff723a0e-03e8-4b1b-ef6f-5b0235a6a116"
      },
      "outputs": [
        {
          "output_type": "stream",
          "name": "stdout",
          "text": [
            "Team with most wins: Team B\n"
          ]
        }
      ],
      "source": [
        "# Завдання 1, варіант через dict\n",
        "teams = [\n",
        "    {\"name\": \"Team A\", \"wins\": 5, \"losses\": 2, \"draws\": 1},\n",
        "    {\"name\": \"Team B\", \"wins\": 7, \"losses\": 1, \"draws\": 0},\n",
        "    {\"name\": \"Team C\", \"wins\": 4, \"losses\": 3, \"draws\": 2}\n",
        "]\n",
        "\n",
        "# Знаходимо команду з найбільшою кількістю перемог\n",
        "best_team = max(teams, key=lambda team: team[\"wins\"])\n",
        "print(\"Team with most wins:\", best_team[\"name\"])"
      ]
    },
    {
      "cell_type": "code",
      "source": [
        "# Завдання 1, варіант через class\n",
        "class Team:\n",
        "    def __init__(self, name, wins, losses, draws):\n",
        "        self.name = name\n",
        "        self.wins = wins\n",
        "        self.losses = losses\n",
        "        self.draws = draws\n",
        "\n",
        "teams = [\n",
        "    Team(\"Team A\", 5, 2, 1),\n",
        "    Team(\"Team B\", 7, 1, 0),\n",
        "    Team(\"Team C\", 4, 3, 2)\n",
        "]\n",
        "\n",
        "# Знаходимо команду з найбільшою кількістю перемог\n",
        "best_team = max(teams, key=lambda team: team.wins)\n",
        "print(\"Team with most wins:\", best_team.name)"
      ],
      "metadata": {
        "colab": {
          "base_uri": "https://localhost:8080/"
        },
        "id": "2s27p5_sUlWs",
        "outputId": "b32d84b0-9608-4185-d25b-43ff70d042db"
      },
      "execution_count": 3,
      "outputs": [
        {
          "output_type": "stream",
          "name": "stdout",
          "text": [
            "Team with most wins: Team B\n"
          ]
        }
      ]
    },
    {
      "cell_type": "markdown",
      "source": [
        "2. Структура містить такі поля: ПІП студента, курс, номер групи, рік\n",
        "народження. Вивести на екран наймолодшого студента."
      ],
      "metadata": {
        "id": "Pw8y_boqVsba"
      }
    },
    {
      "cell_type": "code",
      "source": [
        "# Завдання 2, варіант через dict\n",
        "students = [\n",
        "    {\"name\": \"Ivan Petrov\", \"course\": 2, \"group\": 21, \"birth_year\": 2005},\n",
        "    {\"name\": \"Olena Shevchenko\", \"course\": 3, \"group\": 31, \"birth_year\": 2006},\n",
        "    {\"name\": \"Maksym Bondar\", \"course\": 1, \"group\": 11, \"birth_year\": 2004}\n",
        "]\n",
        "\n",
        "youngest = max(students, key=lambda student: student[\"birth_year\"])\n",
        "print(\"Youngest student:\", youngest[\"name\"])\n"
      ],
      "metadata": {
        "colab": {
          "base_uri": "https://localhost:8080/"
        },
        "id": "Uj8LAkynUpy0",
        "outputId": "50eb418e-65b6-44a6-df65-e4a5360db3a9"
      },
      "execution_count": 4,
      "outputs": [
        {
          "output_type": "stream",
          "name": "stdout",
          "text": [
            "Youngest student: Olena Shevchenko\n"
          ]
        }
      ]
    },
    {
      "cell_type": "code",
      "source": [
        "# Завдання 2, варіант через class\n",
        "class Student:\n",
        "    def __init__(self, name, course, group, birth_year):\n",
        "        self.name = name\n",
        "        self.course = course\n",
        "        self.group = group\n",
        "        self.birth_year = birth_year\n",
        "\n",
        "students = [\n",
        "    Student(\"Ivan Petrov\", 2, 21, 2005),\n",
        "    Student(\"Olena Shevchenko\", 3, 31, 2006),\n",
        "    Student(\"Maksym Bondar\", 1, 11, 2004)\n",
        "]\n",
        "\n",
        "youngest = max(students, key=lambda student: student.birth_year)\n",
        "print(\"Youngest student:\", youngest.name)"
      ],
      "metadata": {
        "colab": {
          "base_uri": "https://localhost:8080/"
        },
        "id": "F4Ttn-OZUp_T",
        "outputId": "93fb00d2-5fe6-4a1e-c8ab-da69527c04bb"
      },
      "execution_count": 5,
      "outputs": [
        {
          "output_type": "stream",
          "name": "stdout",
          "text": [
            "Youngest student: Olena Shevchenko\n"
          ]
        }
      ]
    }
  ]
}