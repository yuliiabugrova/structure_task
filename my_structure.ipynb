{
  "nbformat": 4,
  "nbformat_minor": 0,
  "metadata": {
    "colab": {
      "provenance": [],
      "authorship_tag": "ABX9TyN9rpjRsp5NN3nk5ykmSCUU",
      "include_colab_link": true
    },
    "kernelspec": {
      "name": "python3",
      "display_name": "Python 3"
    },
    "language_info": {
      "name": "python"
    }
  },
  "cells": [
    {
      "cell_type": "markdown",
      "metadata": {
        "id": "view-in-github",
        "colab_type": "text"
      },
      "source": [
        "<a href=\"https://colab.research.google.com/github/yuliiabugrova/structure_task/blob/main/my_structure.ipynb\" target=\"_parent\"><img src=\"https://colab.research.google.com/assets/colab-badge.svg\" alt=\"Open In Colab\"/></a>"
      ]
    },
    {
      "cell_type": "markdown",
      "source": [
        "1. Структура містить такі поля: назва команди, кількість поразок, кількість\n",
        "перемог, кількість нічиїх. Вивести на екран команду, яка найбільше разів\n",
        "перемогла."
      ],
      "metadata": {
        "id": "Arlik00BVqjX"
      }
    },
    {
      "cell_type": "code",
      "execution_count": 5,
      "metadata": {
        "colab": {
          "base_uri": "https://localhost:8080/"
        },
        "id": "ISmFNJ35UBkz",
        "outputId": "f21d08cd-41ee-4386-c814-a53730ba1dc6"
      },
      "outputs": [
        {
          "output_type": "stream",
          "name": "stdout",
          "text": [
            "Команда з найбільшою кількістю перемог: Блискавка\n"
          ]
        }
      ],
      "source": [
        "# Завдання 1, варіант через dict\n",
        "teams = [\n",
        "    {\"name\": \"Шторм\", \"losses\": 3, \"wins\": 7, \"draws\": 2},\n",
        "    {\"name\": \"Блискавка\", \"losses\": 1, \"wins\": 9, \"draws\": 1},\n",
        "    {\"name\": \"Грім\", \"losses\": 2, \"wins\": 6, \"draws\": 4}\n",
        "]\n",
        "\n",
        "best_team = teams[0]\n",
        "\n",
        "for team in teams:\n",
        "    if team[\"wins\"] > best_team[\"wins\"]:\n",
        "        best_team = team\n",
        "\n",
        "print(\"Команда з найбільшою кількістю перемог:\", best_team[\"name\"])"
      ]
    },
    {
      "cell_type": "code",
      "source": [
        "# Завдання 1, варіант через class\n",
        "class Team:\n",
        "    pass\n",
        "\n",
        "team1 = Team()\n",
        "team1.name = \"Шторм\"\n",
        "team1.losses = 3\n",
        "team1.wins = 7\n",
        "team1.draws = 2\n",
        "\n",
        "team2 = Team()\n",
        "team2.name = \"Блискавка\"\n",
        "team2.losses= 1\n",
        "team2.wins= 9\n",
        "team2.draws = 1\n",
        "\n",
        "\n",
        "team3 = Team()\n",
        "team3.name=\"Грім\"\n",
        "team3.losses= 2\n",
        "team3.wins= 6\n",
        "team3.draws =  4\n",
        "\n",
        "\n",
        "teams = [team1, team2, team3]\n",
        "best_team = teams[0]\n",
        "\n",
        "for team in teams:\n",
        "    if team.wins > best_team.wins:\n",
        "        best_team = team\n",
        "\n",
        "print(\"Команда з найбільшою кількістю перемог:\", best_team.name)"
      ],
      "metadata": {
        "colab": {
          "base_uri": "https://localhost:8080/"
        },
        "id": "2s27p5_sUlWs",
        "outputId": "5c8001c0-3b55-4f4f-e64c-ab47defc46dd"
      },
      "execution_count": 8,
      "outputs": [
        {
          "output_type": "stream",
          "name": "stdout",
          "text": [
            "Команда з найбільшою кількістю перемог: Блискавка\n"
          ]
        }
      ]
    },
    {
      "cell_type": "markdown",
      "source": [
        "2. Структура містить такі поля: ПІП студента, курс, номер групи, рік\n",
        "народження. Вивести на екран наймолодшого студента."
      ],
      "metadata": {
        "id": "X_xLXIDnJmeU"
      }
    },
    {
      "cell_type": "code",
      "source": [
        "# Завдання 2, варіант через dict\n",
        "students = [\n",
        "    {\"name\": \"Коваль А. В.\", \"course\": 1, \"group\": 102, \"birth_year\": 2006},\n",
        "    {\"name\": \"Сидоренко І. П.\", \"course\": 2, \"group\": 201, \"birth_year\": 2005},\n",
        "    {\"name\": \"Мельник Ю. О.\", \"course\": 1, \"group\": 103, \"birth_year\": 2007},\n",
        "    {\"name\": \"Бугрова Ю. В.\", \"course\": 1, \"group\": 103, \"birth_year\": 2007},\n",
        "    {\"name\": \"Адамлюк В. В.\", \"course\": 4, \"group\": 103, \"birth_year\": 2005}\n",
        "]\n",
        "\n",
        "max_birth_year = students[0][\"birth_year\"]\n",
        "\n",
        "for student in students:\n",
        "    if student[\"birth_year\"] > max_birth_year:\n",
        "        max_birth_year = student[\"birth_year\"]\n",
        "\n",
        "print(\"Наймолодші студенти:\")\n",
        "for student in students:\n",
        "    if student[\"birth_year\"] == max_birth_year:\n",
        "        print(student[\"name\"])\n"
      ],
      "metadata": {
        "colab": {
          "base_uri": "https://localhost:8080/"
        },
        "id": "Uj8LAkynUpy0",
        "outputId": "75194b2f-3a26-4fba-a066-c743491bbba0"
      },
      "execution_count": 9,
      "outputs": [
        {
          "output_type": "stream",
          "name": "stdout",
          "text": [
            "Наймолодші студенти:\n",
            "Мельник Ю. О.\n",
            "Бугрова Ю. В.\n"
          ]
        }
      ]
    },
    {
      "cell_type": "code",
      "source": [
        "class Student:\n",
        "    pass\n",
        "\n",
        "student1 = Student()\n",
        "student1.name = \"Коваль А. В.\"\n",
        "student1.course = 1\n",
        "student1.group = 102\n",
        "student1.birth_year =  2006\n",
        "\n",
        "student2 = Student()\n",
        "student2.name = \"Сидоренко І. П.\"\n",
        "student2.course = 2\n",
        "student2.group = 201\n",
        "student2.birth_year = 2005\n",
        "\n",
        "student3 = Student()\n",
        "student3.name = \"Мельник Ю. О.\"\n",
        "student3.course = 1\n",
        "student3.group =  103\n",
        "student3.birth_year =  2007\n",
        "\n",
        "student4 = Student()\n",
        "student4.name = \"Бугрова Ю. В.\"\n",
        "student4.course = 1\n",
        "student4.group = 103\n",
        "student4.birth_year =  2007\n",
        "\n",
        "student5 = Student()\n",
        "student5.name = \"Адамлюк В. В.\"\n",
        "student5.course = 4\n",
        "student5.group = 103\n",
        "student5.birth_year =  2005\n",
        "\n",
        "students = [student1, student2, student3, student4, student5]\n",
        "\n",
        "\n",
        "max_birth_year = students[0].birth_year\n",
        "\n",
        "for student in students:\n",
        "    if student.birth_year > max_birth_year:\n",
        "        max_birth_year = student.birth_year\n",
        "\n",
        "print(\"Наймолодші студенти:\")\n",
        "for student in students:\n",
        "    if student.birth_year == max_birth_year:\n",
        "        print(student.name)\n",
        "\n"
      ],
      "metadata": {
        "colab": {
          "base_uri": "https://localhost:8080/"
        },
        "id": "F4Ttn-OZUp_T",
        "outputId": "bd402fc4-8ea7-4e64-98a7-ebd213dc7900"
      },
      "execution_count": 10,
      "outputs": [
        {
          "output_type": "stream",
          "name": "stdout",
          "text": [
            "Наймолодші студенти:\n",
            "Мельник Ю. О.\n",
            "Бугрова Ю. В.\n"
          ]
        }
      ]
    }
  ]
}