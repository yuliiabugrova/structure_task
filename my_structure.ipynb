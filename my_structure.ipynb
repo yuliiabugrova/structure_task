{
  "nbformat": 4,
  "nbformat_minor": 0,
  "metadata": {
    "colab": {
      "provenance": [],
      "authorship_tag": "ABX9TyPGufP+Ml/ylRIBLbqmzjRS",
      "include_colab_link": true
    },
    "kernelspec": {
      "name": "python3",
      "display_name": "Python 3"
    },
    "language_info": {
      "name": "python"
    }
  },
  "cells": [
    {
      "cell_type": "markdown",
      "metadata": {
        "id": "view-in-github",
        "colab_type": "text"
      },
      "source": [
        "<a href=\"https://colab.research.google.com/github/yuliiabugrova/structure_task/blob/main/my_structure.ipynb\" target=\"_parent\"><img src=\"https://colab.research.google.com/assets/colab-badge.svg\" alt=\"Open In Colab\"/></a>"
      ]
    },
    {
      "cell_type": "markdown",
      "source": [
        "1. Структура містить такі поля: назва команди, кількість поразок, кількість\n",
        "перемог, кількість нічиїх. Вивести на екран команду, яка найбільше разів\n",
        "перемогла."
      ],
      "metadata": {
        "id": "Arlik00BVqjX"
      }
    },
    {
      "cell_type": "code",
      "execution_count": null,
      "metadata": {
        "colab": {
          "base_uri": "https://localhost:8080/"
        },
        "id": "ISmFNJ35UBkz",
        "outputId": "b902dda7-6ca2-4240-bf03-f2e06c1db5ab"
      },
      "outputs": [
        {
          "output_type": "stream",
          "name": "stdout",
          "text": [
            "Команда з найбільшою кількістю перемог: Блискавка\n"
          ]
        }
      ],
      "source": [
        "# Завдання 1, варіант через dict\n",
        "teams = [\n",
        "    {\"name\": \"Шторм\", \"losses\": 3, \"wins\": 7, \"draws\": 2},\n",
        "    {\"name\": \"Блискавка\", \"losses\": 1, \"wins\": 9, \"draws\": 1},\n",
        "    {\"name\": \"Грім\", \"losses\": 2, \"wins\": 6, \"draws\": 4}\n",
        "]\n",
        "best_team = teams[0]\n",
        "for team in teams[1:]:\n",
        "    if team[\"wins\"] > best_team[\"wins\"]:\n",
        "        best_team = team\n",
        "print(\"Команда з найбільшою кількістю перемог:\", best_team[\"name\"])"
      ]
    },
    {
      "cell_type": "code",
      "source": [
        "# Завдання 1, варіант через class\n",
        "class Team:\n",
        "    pass\n",
        "\n",
        "team1 = Team()\n",
        "team1.name, team1.losses, team1.wins, team1.draws = \"Шторм\", 3, 7, 2\n",
        "\n",
        "team2 = Team()\n",
        "team2.name, team2.losses, team2.wins, team2.draws = \"Блискавка\", 1, 9, 1\n",
        "\n",
        "team3 = Team()\n",
        "team3.name, team3.losses, team3.wins, team3.draws = \"Грім\", 2, 6, 4\n",
        "\n",
        "teams = [team1, team2, team3]\n",
        "best_team = teams[0]\n",
        "\n",
        "for team in teams[1:]:\n",
        "    if team.wins > best_team.wins:\n",
        "        best_team = team\n",
        "\n",
        "print(\"Команда з найбільшою кількістю перемог:\", best_team.name)"
      ],
      "metadata": {
        "colab": {
          "base_uri": "https://localhost:8080/"
        },
        "id": "2s27p5_sUlWs",
        "outputId": "8fface09-65ec-412a-daa3-871d6f23d035"
      },
      "execution_count": null,
      "outputs": [
        {
          "output_type": "stream",
          "name": "stdout",
          "text": [
            "Команда з найбільшою кількістю перемог: Блискавка\n"
          ]
        }
      ]
    },
    {
      "cell_type": "code",
      "source": [
        "# Завдання 2, варіант через dict\n",
        "students = [\n",
        "    {\"name\": \"Коваль А. В.\", \"course\": 1, \"group\": 102, \"birth_year\": 2006},\n",
        "    {\"name\": \"Сидоренко І. П.\", \"course\": 2, \"group\": 201, \"birth_year\": 2005},\n",
        "    {\"name\": \"Мельник Ю. О.\", \"course\": 1, \"group\": 103, \"birth_year\": 2007},\n",
        "    {\"name\": \"Бугрова Ю. В.\", \"course\": 1, \"group\": 103, \"birth_year\": 2007},\n",
        "    {\"name\": \"Адамлюк В. В.\", \"course\": 4, \"group\": 103, \"birth_year\": 2005}\n",
        "]\n",
        "\n",
        "max_birth_year = students[0][\"birth_year\"]\n",
        "\n",
        "for student in students[1:]:\n",
        "    if student[\"birth_year\"] > max_birth_year:\n",
        "        max_birth_year = student[\"birth_year\"]\n",
        "\n",
        "print(\"Наймолодші студенти:\")\n",
        "for student in students:\n",
        "    if student[\"birth_year\"] == max_birth_year:\n",
        "        print(student[\"name\"])"
      ],
      "metadata": {
        "colab": {
          "base_uri": "https://localhost:8080/"
        },
        "id": "Uj8LAkynUpy0",
        "outputId": "16cc942f-097c-4551-d043-6339dd8f2369"
      },
      "execution_count": null,
      "outputs": [
        {
          "output_type": "stream",
          "name": "stdout",
          "text": [
            "Наймолодші студенти:\n",
            "Мельник Ю. О.\n",
            "Бугрова Ю. В.\n"
          ]
        }
      ]
    },
    {
      "cell_type": "code",
      "source": [
        "class Student:\n",
        "    pass\n",
        "\n",
        "student1 = Student()\n",
        "student1.name, student1.course, student1.group, student1.birth_year = \"Коваль А. В.\", 1, 102, 2006\n",
        "\n",
        "student2 = Student()\n",
        "student2.name, student2.course, student2.group, student2.birth_year = \"Сидоренко І. П.\", 2, 201, 2005\n",
        "\n",
        "student3 = Student()\n",
        "student3.name, student3.course, student3.group, student3.birth_year = \"Мельник Ю. О.\", 1, 103, 2007\n",
        "\n",
        "student4 = Student()\n",
        "student4.name, student4.course, student4.group, student4.birth_year = \"Бугрова Ю. В.\", 1, 103, 2007\n",
        "\n",
        "student5 = Student()\n",
        "student5.name, student5.course, student5.group, student5.birth_year = \"Адамлюк В. В.\", 4, 103, 2005\n",
        "\n",
        "students = [student1, student2, student3, student4, student5]\n",
        "\n",
        "\n",
        "max_birth_year = students[0].birth_year\n",
        "\n",
        "for student in students[1:]:\n",
        "    if student.birth_year > max_birth_year:\n",
        "        max_birth_year = student.birth_year\n",
        "\n",
        "print(\"Наймолодші студенти:\")\n",
        "for student in students:\n",
        "    if student.birth_year == max_birth_year:\n",
        "        print(student.name)\n",
        "\n"
      ],
      "metadata": {
        "colab": {
          "base_uri": "https://localhost:8080/"
        },
        "id": "F4Ttn-OZUp_T",
        "outputId": "e4bb3d62-3a32-4d07-81af-3e8f40fcb55c"
      },
      "execution_count": null,
      "outputs": [
        {
          "output_type": "stream",
          "name": "stdout",
          "text": [
            "Наймолодші студенти:\n",
            "Мельник Ю. О.\n",
            "Бугрова Ю. В.\n"
          ]
        }
      ]
    }
  ]
}